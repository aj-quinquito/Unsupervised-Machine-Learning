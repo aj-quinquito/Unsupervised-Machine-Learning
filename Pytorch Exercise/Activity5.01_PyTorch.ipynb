{
 "cells": [
  {
   "cell_type": "code",
   "execution_count": 1,
   "metadata": {},
   "outputs": [],
   "source": [
    "import pickle\n",
    "import numpy as np\n",
    "import matplotlib.pyplot as plt\n",
    "import torch\n",
    "import torch.nn as nn\n",
    "import torch.optim as optim\n",
    "from torch.utils.data import TensorDataset, DataLoader"
   ]
  },
  {
   "cell_type": "code",
   "execution_count": 2,
   "metadata": {},
   "outputs": [],
   "source": [
    "# Load data\n",
    "with open('mnist.pkl', 'rb') as f:\n",
    "    data = pickle.load(f)\n",
    "    \n",
    "images = data['images']\n",
    "labels = data['labels']"
   ]
  },
  {
   "cell_type": "code",
   "execution_count": 3,
   "metadata": {},
   "outputs": [
    {
     "data": {
      "image/png": "[encoded data removed]",
      "text/plain": [
       "<Figure size 1000x700 with 10 Axes>"
      ]
     },
     "metadata": {},
     "output_type": "display_data"
    }
   ],
   "source": [
    "# Visualize some images\n",
    "plt.figure(figsize=(10, 7))\n",
    "for i in range(10):\n",
    "    plt.subplot(2, 5, i + 1)\n",
    "    plt.imshow(images[i], cmap='gray')\n",
    "    plt.title(labels[i])\n",
    "    plt.axis('off')"
   ]
  },
  {
   "cell_type": "code",
   "execution_count": 4,
   "metadata": {},
   "outputs": [],
   "source": [
    "# Data Preprocessing\n",
    "images = images.reshape((-1, 28 ** 2)) / 255.0\n",
    "labels = torch.tensor(labels, dtype = torch.long) # Labels as integers"
   ]
  },
  {
   "cell_type": "code",
   "execution_count": 5,
   "metadata": {},
   "outputs": [],
   "source": [
    "# Create PyTorch Dataset and DataLoader\n",
    "X = torch.tensor(images, dtype=torch.float32)\n",
    "dataset = TensorDataset(X, labels)\n",
    "dataloader = DataLoader(dataset, batch_size=64, shuffle=True)"
   ]
  },
  {
   "cell_type": "code",
   "execution_count": 6,
   "metadata": {},
   "outputs": [],
   "source": [
    "# Defining the Neural Network\n",
    "class NeuralNetwork(nn.Module):\n",
    "    def __init__(self):\n",
    "        super(NeuralNetwork, self).__init__()\n",
    "        self.layer1 = nn.Linear(784, 600)  # Input -> Hidden Layer\n",
    "        self.relu = nn.ReLU()\n",
    "        self.layer2 = nn.Linear(600, 10)   # Hidden -> Output Layer\n",
    "\n",
    "    def forward(self, x):\n",
    "        x = self.relu(self.layer1(x))\n",
    "        return self.layer2(x)  # No softmax; handled in loss function"
   ]
  },
  {
   "cell_type": "code",
   "execution_count": 7,
   "metadata": {},
   "outputs": [],
   "source": [
    "# Initializing the Model, Loss, and Optimizer\n",
    "model = NeuralNetwork()\n",
    "criterion = nn.CrossEntropyLoss()  # Handles integer labels directly\n",
    "optimizer = optim.SGD(model.parameters(), lr=0.01)"
   ]
  },
  {
   "cell_type": "code",
   "execution_count": 8,
   "metadata": {},
   "outputs": [
    {
     "name": "stdout",
     "output_type": "stream",
     "text": [
      "Epoch [1/20], Loss: 2.0997\n",
      "Epoch [2/20], Loss: 1.5755\n",
      "Epoch [3/20], Loss: 1.0996\n",
      "Epoch [4/20], Loss: 0.8280\n",
      "Epoch [5/20], Loss: 0.6802\n",
      "Epoch [6/20], Loss: 0.5931\n",
      "Epoch [7/20], Loss: 0.5304\n",
      "Epoch [8/20], Loss: 0.4892\n",
      "Epoch [9/20], Loss: 0.4579\n",
      "Epoch [10/20], Loss: 0.4316\n",
      "Epoch [11/20], Loss: 0.4122\n",
      "Epoch [12/20], Loss: 0.3967\n",
      "Epoch [13/20], Loss: 0.3844\n",
      "Epoch [14/20], Loss: 0.3708\n",
      "Epoch [15/20], Loss: 0.3617\n",
      "Epoch [16/20], Loss: 0.3550\n",
      "Epoch [17/20], Loss: 0.3453\n",
      "Epoch [18/20], Loss: 0.3395\n",
      "Epoch [19/20], Loss: 0.3293\n",
      "Epoch [20/20], Loss: 0.3240\n"
     ]
    }
   ],
   "source": [
    "# Training the model\n",
    "num_epochs = 20\n",
    "for epoch in range(num_epochs):\n",
    "    total_loss = 0\n",
    "    for batch_X, batch_y in dataloader:\n",
    "        # Forward pass\n",
    "        outputs = model(batch_X)\n",
    "        loss = criterion(outputs, batch_y)\n",
    "\n",
    "        # Backpropagation and optimization\n",
    "        optimizer.zero_grad()\n",
    "        loss.backward()\n",
    "        optimizer.step()\n",
    "\n",
    "        total_loss += loss.item()\n",
    "\n",
    "    print(f'Epoch [{epoch + 1}/{num_epochs}], Loss: {total_loss / len(dataloader):.4f}')"
   ]
  },
  {
   "cell_type": "code",
   "execution_count": 10,
   "metadata": {},
   "outputs": [
    {
     "name": "stdout",
     "output_type": "stream",
     "text": [
      "Accuracy: 91.21%\n"
     ]
    }
   ],
   "source": [
    "# Evaluating the model\n",
    "def evaluate(model, dataloader):\n",
    "    model.eval()\n",
    "    correct = 0\n",
    "    total = 0\n",
    "    with torch.no_grad():\n",
    "        for batch_X, batch_y in dataloader:\n",
    "            outputs = model(batch_X)\n",
    "            _, predicted = torch.max(outputs, 1)\n",
    "            total += batch_y.size(0)\n",
    "            correct += (predicted == batch_y).sum().item()\n",
    "\n",
    "    print(f'Accuracy: {100 * correct / total:.2f}%')\n",
    "\n",
    "# Evaluate the model\n",
    "evaluate(model, dataloader)"
   ]
  }
 ],
 "metadata": {
  "kernelspec": {
   "display_name": "UnsupervisedML",
   "language": "python",
   "name": "python3"
  },
  "language_info": {
   "codemirror_mode": {
    "name": "ipython",
    "version": 3
   },
   "file_extension": ".py",
   "mimetype": "text/x-python",
   "name": "python",
   "nbconvert_exporter": "python",
   "pygments_lexer": "ipython3",
   "version": "3.7.1"
  }
 },
 "nbformat": 4,
 "nbformat_minor": 2
}
