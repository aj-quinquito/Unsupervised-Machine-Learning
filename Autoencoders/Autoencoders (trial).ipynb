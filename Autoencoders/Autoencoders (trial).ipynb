{
 "cells": [
  {
   "cell_type": "code",
   "execution_count": 140,
   "metadata": {},
   "outputs": [],
   "source": [
    "import pandas as pd\n",
    "import numpy as np\n",
    "import matplotlib.pyplot as plt\n",
    "from tensorflow.keras.layers import Input, Dense\n",
    "from tensorflow.keras.models import Model\n",
    "from tensorflow.keras.optimizers import Adam"
   ]
  },
  {
   "cell_type": "markdown",
   "metadata": {},
   "source": [
    "##### 1. Data\n",
    "\n",
    "a) Each row of csvImages 10k x 784.csv contains the gray scale values of a 28 x 28 image. Load this data into a pandas dataframe. Convert the dataframe to a numpy array using pandas.values. Print the shape of the data."
   ]
  },
  {
   "cell_type": "code",
   "execution_count": 141,
   "metadata": {},
   "outputs": [
    {
     "name": "stdout",
     "output_type": "stream",
     "text": [
      "Shape of the data: (9999, 784)\n"
     ]
    }
   ],
   "source": [
    "# Load the CSV file and convert it to a NumPy array\n",
    "data = pd.read_csv('archive/csvTestImages 10k x 784.csv').values \n",
    "\n",
    "# Print the shape of the data\n",
    "print(\"Shape of the data:\", data.shape)"
   ]
  },
  {
   "cell_type": "markdown",
   "metadata": {},
   "source": [
    "b) Normalize by dividing each value by 255. In order to display the images, reshape the array so each image is 28 x 28 using numpy.ndarray.reshape. Use matplotlib.plot.imshow and matplotlib.plot.subplot to give a plot of the first five images using the 'gray' colour map. In order to put the data back in the original shape for input to the neural network, reshape each image to be 784 (one-dimensional). "
   ]
  },
  {
   "cell_type": "code",
   "execution_count": 142,
   "metadata": {},
   "outputs": [
    {
     "data": {
      "image/png": "[encoded data removed]",
      "text/plain": [
       "<Figure size 1000x200 with 5 Axes>"
      ]
     },
     "metadata": {},
     "output_type": "display_data"
    },
    {
     "name": "stdout",
     "output_type": "stream",
     "text": [
      "Shape of flattened data: (9999, 784)\n"
     ]
    }
   ],
   "source": [
    "# Normalize the data by dividing by 255\n",
    "data_normalized = data / 255.0\n",
    "\n",
    "# Reshape (NumPy array) the data for visualization (28x28 images)\n",
    "data_reshaped = data_normalized.reshape(-1, 28, 28) \n",
    "\n",
    "# Plot the first 5 images using matplotlib\n",
    "plt.figure(figsize=(10, 2))\n",
    "for i in range(5):\n",
    "    plt.subplot(1, 5, i + 1)\n",
    "    plt.imshow(data_reshaped[i], cmap='gray')\n",
    "    plt.axis('off')\n",
    "plt.show()\n",
    "\n",
    "# Reshape the images back to 784 for neural network input\n",
    "data_flattened = data_reshaped.reshape(-1, 784)\n",
    "\n",
    "# Print the shape to confirm it has been flattened correctly\n",
    "print(\"Shape of flattened data:\", data_flattened.shape)"
   ]
  },
  {
   "cell_type": "markdown",
   "metadata": {},
   "source": [
    "##### 2. Modeling\n",
    "\n",
    "a) Use keras.layers to create an input layer that matches the dimensions of your data."
   ]
  },
  {
   "cell_type": "code",
   "execution_count": 143,
   "metadata": {},
   "outputs": [
    {
     "name": "stdout",
     "output_type": "stream",
     "text": [
      "KerasTensor(type_spec=TensorSpec(shape=(None, 784), dtype=tf.float32, name='input_9'), name='input_9', description=\"created by layer 'input_9'\")\n"
     ]
    }
   ],
   "source": [
    "# Define the input layer with the shape matching your flattened image data (784,)\n",
    "input_layer = Input(shape=(784,))\n",
    "\n",
    "# Print to confirm the layer\n",
    "print(input_layer)"
   ]
  },
  {
   "cell_type": "markdown",
   "metadata": {},
   "source": [
    "<span style='color:red'>\n",
    "\n",
    "Explanation:\n",
    "- Input(shape=(784,)): This defines an input layer with 784 neurons, which corresponds to the 784 pixels in each flattened 28x28 image.\n",
    "- This input_layer can now be used as the input to your model when constructing the full autoencoder or any other neural network.\n",
    "\n",
    "</span>"
   ]
  },
  {
   "cell_type": "markdown",
   "metadata": {},
   "source": [
    "b) Use keras.layers to create an encoding stage that has at least two layers and reduces the size of the data to 50% or less (less is better). You will need to choose activation functions."
   ]
  },
  {
   "cell_type": "code",
   "execution_count": 144,
   "metadata": {},
   "outputs": [
    {
     "name": "stdout",
     "output_type": "stream",
     "text": [
      "KerasTensor(type_spec=TensorSpec(shape=(None, 64), dtype=tf.float32, name=None), name='dense_96/Relu:0', description=\"created by layer 'dense_96'\")\n"
     ]
    }
   ],
   "source": [
    "# Encoding stage: progressively reducing the size\n",
    "encoded = Dense(256, activation='relu')(input_layer)  # First hidden layer, reduce to 256 neurons\n",
    "encoded = Dense(128, activation='relu')(encoded)      # Second hidden layer, reduce to 128 neurons\n",
    "encoded = Dense(64, activation='relu')(encoded)       # Third hidden layer, reduce to 64 neurons\n",
    "\n",
    "# Print the final encoded layer to confirm the size reduction\n",
    "print(encoded)"
   ]
  },
  {
   "cell_type": "markdown",
   "metadata": {},
   "source": [
    "<span style='color:red'>\n",
    "\n",
    "Explanation:\n",
    "- First Layer (Dense(256)): Reduces the data from 784 to 256 neurons with a ReLU activation function.\n",
    "- Second Layer (Dense(128)): Further reduces the data from 256 to 128 neurons.\n",
    "- Third Layer (Dense(64)): Reduces the data to 64 neurons, which is less than 50% of the original size (which is 784).\n",
    "\n",
    "</span>"
   ]
  },
  {
   "cell_type": "markdown",
   "metadata": {},
   "source": [
    "c) Use keras.layers to create a decoding stage that has at least two layers and restores the data to its original size. You will need to choose activation functions."
   ]
  },
  {
   "cell_type": "code",
   "execution_count": 145,
   "metadata": {},
   "outputs": [
    {
     "name": "stdout",
     "output_type": "stream",
     "text": [
      "Model: \"model_30\"\n",
      "_________________________________________________________________\n",
      " Layer (type)                Output Shape              Param #   \n",
      "=================================================================\n",
      " input_9 (InputLayer)        [(None, 784)]             0         \n",
      "                                                                 \n",
      " dense_94 (Dense)            (None, 256)               200960    \n",
      "                                                                 \n",
      " dense_95 (Dense)            (None, 128)               32896     \n",
      "                                                                 \n",
      " dense_96 (Dense)            (None, 64)                8256      \n",
      "                                                                 \n",
      " dense_97 (Dense)            (None, 128)               8320      \n",
      "                                                                 \n",
      " dense_98 (Dense)            (None, 256)               33024     \n",
      "                                                                 \n",
      " dense_99 (Dense)            (None, 784)               201488    \n",
      "                                                                 \n",
      "=================================================================\n",
      "Total params: 484,944\n",
      "Trainable params: 484,944\n",
      "Non-trainable params: 0\n",
      "_________________________________________________________________\n"
     ]
    }
   ],
   "source": [
    "# Decoding stage\n",
    "decoded = Dense(128, activation='relu')(encoded)\n",
    "decoded = Dense(256, activation='relu')(decoded)\n",
    "decoded = Dense(784, activation='softmax')(decoded)  # Restoring to original size\n",
    "\n",
    "# Autoencoder model\n",
    "autoencoder = Model(input_layer, decoded)\n",
    "\n",
    "# Compile the autoencoder\n",
    "autoencoder.compile(optimizer='adam', loss='binary_crossentropy')\n",
    "\n",
    "# Print the summary of the model\n",
    "autoencoder.summary()"
   ]
  },
  {
   "cell_type": "markdown",
   "metadata": {},
   "source": [
    "d) Compile the complete autoencoder network. You will need to choose a loss function and an optimizer. Train the autoencoder using the image data."
   ]
  },
  {
   "cell_type": "code",
   "execution_count": 146,
   "metadata": {},
   "outputs": [
    {
     "name": "stdout",
     "output_type": "stream",
     "text": [
      "Epoch 1/20\n",
      "32/32 [==============================] - 1s 13ms/step - loss: 0.3944 - val_loss: 0.2681\n",
      "Epoch 2/20\n",
      "32/32 [==============================] - 0s 5ms/step - loss: 0.2380 - val_loss: 0.2285\n",
      "Epoch 3/20\n",
      "32/32 [==============================] - 0s 4ms/step - loss: 0.2026 - val_loss: 0.1864\n",
      "Epoch 4/20\n",
      "32/32 [==============================] - 0s 5ms/step - loss: 0.1671 - val_loss: 0.1582\n",
      "Epoch 5/20\n",
      "32/32 [==============================] - 0s 4ms/step - loss: 0.1465 - val_loss: 0.1425\n",
      "Epoch 6/20\n",
      "32/32 [==============================] - 0s 5ms/step - loss: 0.1343 - val_loss: 0.1321\n",
      "Epoch 7/20\n",
      "32/32 [==============================] - 0s 4ms/step - loss: 0.1259 - val_loss: 0.1255\n",
      "Epoch 8/20\n",
      "32/32 [==============================] - 0s 5ms/step - loss: 0.1199 - val_loss: 0.1202\n",
      "Epoch 9/20\n",
      "32/32 [==============================] - 0s 4ms/step - loss: 0.1146 - val_loss: 0.1146\n",
      "Epoch 10/20\n",
      "32/32 [==============================] - 0s 5ms/step - loss: 0.1101 - val_loss: 0.1113\n",
      "Epoch 11/20\n",
      "32/32 [==============================] - 0s 4ms/step - loss: 0.1065 - val_loss: 0.1078\n",
      "Epoch 12/20\n",
      "32/32 [==============================] - 0s 4ms/step - loss: 0.1033 - val_loss: 0.1049\n",
      "Epoch 13/20\n",
      "32/32 [==============================] - 0s 4ms/step - loss: 0.1009 - val_loss: 0.1026\n",
      "Epoch 14/20\n",
      "32/32 [==============================] - 0s 4ms/step - loss: 0.0987 - val_loss: 0.1009\n",
      "Epoch 15/20\n",
      "32/32 [==============================] - 0s 4ms/step - loss: 0.0969 - val_loss: 0.0994\n",
      "Epoch 16/20\n",
      "32/32 [==============================] - 0s 5ms/step - loss: 0.0956 - val_loss: 0.0977\n",
      "Epoch 17/20\n",
      "32/32 [==============================] - 0s 5ms/step - loss: 0.0936 - val_loss: 0.0971\n",
      "Epoch 18/20\n",
      "32/32 [==============================] - 0s 5ms/step - loss: 0.0920 - val_loss: 0.0956\n",
      "Epoch 19/20\n",
      "32/32 [==============================] - 0s 5ms/step - loss: 0.0906 - val_loss: 0.0951\n",
      "Epoch 20/20\n",
      "32/32 [==============================] - 0s 5ms/step - loss: 0.0900 - val_loss: 0.0931\n"
     ]
    }
   ],
   "source": [
    "# Train the autoencoder with the flattened image data\n",
    "history = autoencoder.fit(data_flattened, data_flattened, \n",
    "                          epochs=20, \n",
    "                          batch_size=256, \n",
    "                          shuffle=True, \n",
    "                          validation_split=0.2)\n"
   ]
  },
  {
   "cell_type": "markdown",
   "metadata": {},
   "source": [
    "<span style='color:red'>\n",
    "\n",
    "Key Points:\n",
    "- Epochs: The number of times the model sees the entire dataset during training. You can start with 50 epochs but adjust based on the performance.\n",
    "- Batch size: The number of samples processed before the model is updated. 256 is a common choice, but you can adjust it.\n",
    "- Shuffle: Ensures that the training data is shuffled before each epoch, which helps the model generalize better.\n",
    "- Validation split: 20% of the data will be used for validation during training to monitor performance on unseen data.\n",
    "\n",
    "</span>"
   ]
  },
  {
   "cell_type": "markdown",
   "metadata": {},
   "source": [
    "c) Compile an encoder network from your trained input layer and encoding stage."
   ]
  },
  {
   "cell_type": "code",
   "execution_count": 147,
   "metadata": {},
   "outputs": [
    {
     "name": "stdout",
     "output_type": "stream",
     "text": [
      "Model: \"model_31\"\n",
      "_________________________________________________________________\n",
      " Layer (type)                Output Shape              Param #   \n",
      "=================================================================\n",
      " input_9 (InputLayer)        [(None, 784)]             0         \n",
      "                                                                 \n",
      " dense_94 (Dense)            (None, 256)               200960    \n",
      "                                                                 \n",
      " dense_95 (Dense)            (None, 128)               32896     \n",
      "                                                                 \n",
      " dense_96 (Dense)            (None, 64)                8256      \n",
      "                                                                 \n",
      "=================================================================\n",
      "Total params: 242,112\n",
      "Trainable params: 242,112\n",
      "Non-trainable params: 0\n",
      "_________________________________________________________________\n"
     ]
    }
   ],
   "source": [
    "# Create the encoder model using the input layer and the encoded output\n",
    "encoder = Model(input_layer, encoded)\n",
    "\n",
    "# Compile the encoder (no need to compile if you're not training it further, but it’s good practice)\n",
    "encoder.compile(optimizer='adam', loss='binary_crossentropy')\n",
    "\n",
    "# Print the summary of the encoder model\n",
    "encoder.summary()"
   ]
  },
  {
   "cell_type": "markdown",
   "metadata": {},
   "source": [
    "<span style='color:red'>\n",
    "\n",
    "Explanation:\n",
    "- Model(input_layer, encoded): This creates a new model with the input as the original input layer and the output as the final encoding layer (the bottleneck layer, which has reduced the dimensions).\n",
    "- Encoder Network: This network will now only return the encoded (compressed) representation of the input images.\n",
    "\n",
    "</span>"
   ]
  },
  {
   "cell_type": "code",
   "execution_count": 148,
   "metadata": {},
   "outputs": [
    {
     "name": "stdout",
     "output_type": "stream",
     "text": [
      "1/1 [==============================] - 0s 35ms/step\n",
      "Shape of encoded images: (5, 64)\n"
     ]
    }
   ],
   "source": [
    "# Encoded representation of the first 5 images\n",
    "encoded_images = encoder.predict(data_flattened[:5])\n",
    "\n",
    "# Print the shape of the encoded images\n",
    "print(\"Shape of encoded images:\", encoded_images.shape)"
   ]
  },
  {
   "cell_type": "code",
   "execution_count": 149,
   "metadata": {},
   "outputs": [
    {
     "name": "stdout",
     "output_type": "stream",
     "text": [
      "1/1 [==============================] - 0s 59ms/step\n",
      "Shape of encoded images: (5, 784)\n"
     ]
    }
   ],
   "source": [
    "# Decoded reperesentation of the first 5 images\n",
    "decoded_images = autoencoder.predict(data_flattened[:5])\n",
    "\n",
    "# Print the shape of the encoded images\n",
    "print(\"Shape of encoded images:\", decoded_images.shape)"
   ]
  },
  {
   "cell_type": "markdown",
   "metadata": {},
   "source": [
    "##### 3. Conclusions\n",
    "\n",
    "a) Use matplotlib.plot.imshow and matplotlib.plot.subplot and your trained models to give a plot of the first five original images along the top row, the encoded versions of those same images along the second row, and the decoded versions along the bottom row. Return to question 2 and adjust the hyperparameters of your model until you are able to produce decoded images that represent the original images, with an encoding that uses as little data as possible; make a record of the adjustments you try in markdown."
   ]
  },
  {
   "cell_type": "code",
   "execution_count": 150,
   "metadata": {},
   "outputs": [
    {
     "data": {
      "image/png": "[encoded data removed]",
      "text/plain": [
       "<Figure size 1000x600 with 15 Axes>"
      ]
     },
     "metadata": {},
     "output_type": "display_data"
    }
   ],
   "source": [
    "# Plot the original, encoded, and decoded images\n",
    "plt.figure(figsize=(10, 6))\n",
    "\n",
    "# Plot original images (Top row)\n",
    "for i in range(5):\n",
    "    plt.subplot(3, 5, i + 1)\n",
    "    plt.imshow(data_flattened[i].reshape(28, 28), cmap='gray')\n",
    "    plt.axis('off')\n",
    "    if i == 0:\n",
    "        plt.title(\"Original\")\n",
    "\n",
    "# Plot encoded images (Middle row)\n",
    "for i in range(5):\n",
    "    plt.subplot(3, 5, i + 6)\n",
    "    # Reshape the encoded image into a smaller format for display (for example, 8x8 if the encoded size is 64)\n",
    "    plt.imshow(encoded_images[i].reshape(8, 8), cmap='gray')  # Adjust based on encoding dimensions\n",
    "    plt.axis('off')\n",
    "    if i == 0:\n",
    "        plt.title(\"Encoded\")\n",
    "\n",
    "# Plot decoded images (Bottom row)\n",
    "for i in range(5):\n",
    "    plt.subplot(3, 5, i + 11)\n",
    "    plt.imshow(decoded_images[i].reshape(28, 28), cmap='gray')\n",
    "    plt.axis('off')\n",
    "    if i == 0:\n",
    "        plt.title(\"Decoded\")\n",
    "\n",
    "plt.show()"
   ]
  },
  {
   "cell_type": "code",
   "execution_count": 151,
   "metadata": {},
   "outputs": [
    {
     "name": "stdout",
     "output_type": "stream",
     "text": [
      "KerasTensor(type_spec=TensorSpec(shape=(None, 98), dtype=tf.float32, name=None), name='dense_102/Relu:0', description=\"created by layer 'dense_102'\")\n"
     ]
    }
   ],
   "source": [
    "# Encoding stage: progressively reducing the size with four layers\n",
    "encoded_final = Dense(392, activation='relu')(input_layer) # reduced from 784 to 392\n",
    "encoded_final = Dense(196, activation='relu')(encoded_final) # reduced from 392 to 196\n",
    "encoded_final = Dense(98, activation='relu')(encoded_final) # reduced from 196 to 98\n",
    "\n",
    "# Print the final encoded layer to confirm the size reduction\n",
    "print(encoded_final)"
   ]
  },
  {
   "cell_type": "code",
   "execution_count": 152,
   "metadata": {},
   "outputs": [
    {
     "name": "stdout",
     "output_type": "stream",
     "text": [
      "Model: \"model_32\"\n",
      "_________________________________________________________________\n",
      " Layer (type)                Output Shape              Param #   \n",
      "=================================================================\n",
      " input_9 (InputLayer)        [(None, 784)]             0         \n",
      "                                                                 \n",
      " dense_100 (Dense)           (None, 392)               307720    \n",
      "                                                                 \n",
      " dense_101 (Dense)           (None, 196)               77028     \n",
      "                                                                 \n",
      " dense_102 (Dense)           (None, 98)                19306     \n",
      "                                                                 \n",
      " dense_103 (Dense)           (None, 98)                9702      \n",
      "                                                                 \n",
      " dense_104 (Dense)           (None, 196)               19404     \n",
      "                                                                 \n",
      " dense_105 (Dense)           (None, 392)               77224     \n",
      "                                                                 \n",
      " dense_106 (Dense)           (None, 784)               308112    \n",
      "                                                                 \n",
      "=================================================================\n",
      "Total params: 818,496\n",
      "Trainable params: 818,496\n",
      "Non-trainable params: 0\n",
      "_________________________________________________________________\n"
     ]
    }
   ],
   "source": [
    "# Decoding stage: progressively restoring the size with four layers\n",
    "decoded_final = Dense(98, activation='relu')(encoded_final)\n",
    "decoded_final = Dense (196, activation='relu')(decoded_final)\n",
    "decoded_final = Dense(392, activation='relu')(decoded_final)\n",
    "decoded_final = Dense(784, activation='sigmoid')(decoded_final)\n",
    "\n",
    "# Autoencoder model\n",
    "autoencoder_final = Model(input_layer, decoded_final)\n",
    "\n",
    "# Compile the autoencoder\n",
    "autoencoder_final.compile(optimizer='adam', loss='binary_crossentropy')\n",
    "\n",
    "# Print the summary of the model\n",
    "autoencoder_final.summary()"
   ]
  },
  {
   "cell_type": "code",
   "execution_count": 153,
   "metadata": {},
   "outputs": [
    {
     "name": "stdout",
     "output_type": "stream",
     "text": [
      "Epoch 1/20\n",
      "32/32 [==============================] - 1s 14ms/step - loss: 0.3736 - val_loss: 0.2596\n",
      "Epoch 2/20\n",
      "32/32 [==============================] - 0s 9ms/step - loss: 0.2347 - val_loss: 0.2298\n",
      "Epoch 3/20\n",
      "32/32 [==============================] - 0s 8ms/step - loss: 0.2086 - val_loss: 0.1988\n",
      "Epoch 4/20\n",
      "32/32 [==============================] - 0s 6ms/step - loss: 0.1750 - val_loss: 0.1631\n",
      "Epoch 5/20\n",
      "32/32 [==============================] - 0s 6ms/step - loss: 0.1492 - val_loss: 0.1449\n",
      "Epoch 6/20\n",
      "32/32 [==============================] - 0s 5ms/step - loss: 0.1353 - val_loss: 0.1332\n",
      "Epoch 7/20\n",
      "32/32 [==============================] - 0s 5ms/step - loss: 0.1258 - val_loss: 0.1243\n",
      "Epoch 8/20\n",
      "32/32 [==============================] - 0s 10ms/step - loss: 0.1184 - val_loss: 0.1193\n",
      "Epoch 9/20\n",
      "32/32 [==============================] - 0s 6ms/step - loss: 0.1131 - val_loss: 0.1142\n",
      "Epoch 10/20\n",
      "32/32 [==============================] - 0s 6ms/step - loss: 0.1091 - val_loss: 0.1105\n",
      "Epoch 11/20\n",
      "32/32 [==============================] - 0s 5ms/step - loss: 0.1056 - val_loss: 0.1074\n",
      "Epoch 12/20\n",
      "32/32 [==============================] - 0s 5ms/step - loss: 0.1028 - val_loss: 0.1046\n",
      "Epoch 13/20\n",
      "32/32 [==============================] - 0s 5ms/step - loss: 0.1007 - val_loss: 0.1031\n",
      "Epoch 14/20\n",
      "32/32 [==============================] - 0s 6ms/step - loss: 0.0982 - val_loss: 0.1007\n",
      "Epoch 15/20\n",
      "32/32 [==============================] - 0s 6ms/step - loss: 0.0959 - val_loss: 0.0993\n",
      "Epoch 16/20\n",
      "32/32 [==============================] - 0s 5ms/step - loss: 0.0943 - val_loss: 0.0978\n",
      "Epoch 17/20\n",
      "32/32 [==============================] - 0s 6ms/step - loss: 0.0931 - val_loss: 0.0967\n",
      "Epoch 18/20\n",
      "32/32 [==============================] - 0s 5ms/step - loss: 0.0915 - val_loss: 0.0954\n",
      "Epoch 19/20\n",
      "32/32 [==============================] - 0s 5ms/step - loss: 0.0901 - val_loss: 0.0941\n",
      "Epoch 20/20\n",
      "32/32 [==============================] - 0s 5ms/step - loss: 0.0889 - val_loss: 0.0931\n"
     ]
    }
   ],
   "source": [
    "# Train the autoencoder with the flattened image data\n",
    "history_final = autoencoder_final.fit(data_flattened, data_flattened, \n",
    "                          epochs=20, \n",
    "                          batch_size=256, \n",
    "                          shuffle=True, \n",
    "                          validation_split=0.2)\n"
   ]
  },
  {
   "cell_type": "code",
   "execution_count": 154,
   "metadata": {},
   "outputs": [
    {
     "name": "stdout",
     "output_type": "stream",
     "text": [
      "Model: \"model_33\"\n",
      "_________________________________________________________________\n",
      " Layer (type)                Output Shape              Param #   \n",
      "=================================================================\n",
      " input_9 (InputLayer)        [(None, 784)]             0         \n",
      "                                                                 \n",
      " dense_100 (Dense)           (None, 392)               307720    \n",
      "                                                                 \n",
      " dense_101 (Dense)           (None, 196)               77028     \n",
      "                                                                 \n",
      " dense_102 (Dense)           (None, 98)                19306     \n",
      "                                                                 \n",
      "=================================================================\n",
      "Total params: 404,054\n",
      "Trainable params: 404,054\n",
      "Non-trainable params: 0\n",
      "_________________________________________________________________\n"
     ]
    }
   ],
   "source": [
    "# Create the encoder model using the input layer and the encoded output\n",
    "encoder_final = Model(input_layer, encoded_final)\n",
    "\n",
    "# Compile the encoder (no need to compile if you're not training it further, but it’s good practice)\n",
    "encoder_final.compile(optimizer='adam', loss='binary_crossentropy')\n",
    "\n",
    "# Print the summary of the encoder model\n",
    "encoder_final.summary()"
   ]
  },
  {
   "cell_type": "code",
   "execution_count": 155,
   "metadata": {},
   "outputs": [
    {
     "name": "stdout",
     "output_type": "stream",
     "text": [
      "1/1 [==============================] - 0s 37ms/step\n",
      "1/1 [==============================] - 0s 68ms/step\n"
     ]
    }
   ],
   "source": [
    "# Encoded representation of the first 5 images\n",
    "encoded_images_final = encoder_final.predict(data_flattened[:5])\n",
    "\n",
    "# Print the shape of the encoded images\n",
    "decoded_images_final = autoencoder_final.predict(data_flattened[:5])"
   ]
  },
  {
   "cell_type": "code",
   "execution_count": 156,
   "metadata": {},
   "outputs": [
    {
     "name": "stdout",
     "output_type": "stream",
     "text": [
      "1/1 [==============================] - 0s 20ms/step\n",
      "Shape of encoded images: (5, 784)\n"
     ]
    }
   ],
   "source": [
    "# Decoded reperesentation of the first 5 images\n",
    "decoded_images_final = autoencoder_final.predict(data_flattened[:5])\n",
    "\n",
    "# Print the shape of the encoded images\n",
    "print(\"Shape of encoded images:\", decoded_images_final.shape)"
   ]
  },
  {
   "cell_type": "code",
   "execution_count": 157,
   "metadata": {},
   "outputs": [
    {
     "data": {
      "image/png": "[encoded data removed]",
      "text/plain": [
       "<Figure size 1000x600 with 15 Axes>"
      ]
     },
     "metadata": {},
     "output_type": "display_data"
    }
   ],
   "source": [
    "# Plot original, encoded, and decoded images side by side\n",
    "plt.figure(figsize=(10, 6))\n",
    "\n",
    "# Plot original images (Top row)\n",
    "for i in range(5):\n",
    "    plt.subplot(3, 5, i + 1)\n",
    "    plt.imshow(data_flattened[i].reshape(28, 28), cmap='gray')\n",
    "    plt.axis('off')\n",
    "    if i == 0:\n",
    "        plt.title(\"Original\")\n",
    "\n",
    "# Plot encoded images (Middle row)\n",
    "for i in range(5):\n",
    "    plt.subplot(3, 5, i + 6)\n",
    "    plt.imshow(encoded_images_final[i].reshape(14, 7), cmap='gray')  # Adjust based on encoding dimensions\n",
    "    plt.axis('off')\n",
    "    if i == 0:\n",
    "        plt.title(\"Encoded\")\n",
    "\n",
    "# Plot decoded images (Bottom row)\n",
    "for i in range(5):\n",
    "    plt.subplot(3, 5, i + 11)\n",
    "    plt.imshow(decoded_images_final[i].reshape(28, 28), cmap='gray')\n",
    "    plt.axis('off')\n",
    "    if i == 0:\n",
    "        plt.title(\"Decoded\")\n",
    "\n",
    "plt.show()"
   ]
  },
  {
   "cell_type": "markdown",
   "metadata": {},
   "source": [
    "<span style=\"color: green\">\n",
    "\n",
    "##### Hyperparameter Adjustments:\n",
    "\n",
    "We started with 3 layers for the encoding and decoding stage. These layers had 256, 128 and 64 neurons for the encoding layer. For the decoding layer, we started with 128 neurons to 256 and back to 784 neurons. We also used softmax as our first activation function for the last layer of the decoder. Once we plotted the images, we noticed that the images were not clear.\n",
    "\n",
    "With that, we adjusted our encoders and decoders. For the encoders, we changed it to 3 layers with 392, 196 and 98 neurons, splitting the number of neurons by half every layer. For the decoder, we decided to go with 4 layers. Starting with 98 neurons until we got to the original numnber of neurons on the fourth layer. We also changed the activation function to sigmoid. The images came out clearer compared to our first attempt.\n",
    "\n",
    "The first batch of code was not included because we noticed that even though the activation function has been changed to sigmoid, the images were still not clear. However, when we deleted the first bacth of code and only had the adjusted code, the result is as seen above, with the images being clearer.\n",
    "\n",
    "</span>"
   ]
  },
  {
   "cell_type": "markdown",
   "metadata": {},
   "source": [
    "b) Use markdown to describe how well the autoencoder is working, making reference to the plots."
   ]
  },
  {
   "cell_type": "markdown",
   "metadata": {},
   "source": [
    "<span style='color: green'>\n",
    "\n",
    "Explanation:\n",
    "\n",
    "- The encoder model is constructed by taking the original input layer and connecting it to the encoded layers (the compressed representation of the data).\n",
    "- The encoder.summary() method displays the architecture of the encoder network, including the size of each layer and the number of parameters.\n",
    "\n",
    "</span>"
   ]
  },
  {
   "cell_type": "markdown",
   "metadata": {},
   "source": [
    "c) State the amount of data needed to store a single image, considering that a floating-point number is 4 bytes of data. Calculate how much memory will be saved as a percentage."
   ]
  },
  {
   "cell_type": "code",
   "execution_count": 158,
   "metadata": {},
   "outputs": [
    {
     "name": "stdout",
     "output_type": "stream",
     "text": [
      "Original size: 3136 bytes\n",
      "Encoded size: 392 bytes\n",
      "Memory saved: 2744 bytes (87.50%)\n"
     ]
    }
   ],
   "source": [
    "# Memory calculations\n",
    "original_size = 784 * 4  # 784 floats, 4 bytes each\n",
    "encoded_size = 98 * 4    # Encoded representation has 64 floats, 4 bytes each\n",
    "\n",
    "# Calculate memory saved\n",
    "memory_saved = original_size - encoded_size\n",
    "percentage_saved = (memory_saved / original_size) * 100\n",
    "\n",
    "# Print results\n",
    "print(f\"Original size: {original_size} bytes\")\n",
    "print(f\"Encoded size: {encoded_size} bytes\")\n",
    "print(f\"Memory saved: {memory_saved} bytes ({percentage_saved:.2f}%)\")"
   ]
  }
 ],
 "metadata": {
  "kernelspec": {
   "display_name": "gpu_env",
   "language": "python",
   "name": "python3"
  },
  "language_info": {
   "codemirror_mode": {
    "name": "ipython",
    "version": 3
   },
   "file_extension": ".py",
   "mimetype": "text/x-python",
   "name": "python",
   "nbconvert_exporter": "python",
   "pygments_lexer": "ipython3",
   "version": "3.8.20"
  }
 },
 "nbformat": 4,
 "nbformat_minor": 2
}
